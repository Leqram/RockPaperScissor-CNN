{
  "cells": [
    {
      "cell_type": "code",
      "execution_count": null,
      "metadata": {
        "id": "fEZKahztU6d4"
      },
      "outputs": [],
      "source": [
        "import numpy as np\n",
        "from google.colab import files\n",
        "from keras.preprocessing import image as keras_image\n",
        "import matplotlib.pyplot as plt\n",
        "import matplotlib.image as mpimg\n",
        "import tensorflow as tf\n",
        "from keras.models import Sequential\n",
        "from tensorflow.keras.preprocessing.image import ImageDataGenerator\n",
        "from tensorflow.keras.layers import Conv2D, MaxPooling2D, Flatten, Dense, Dropout\n",
        "%matplotlib inline\n",
        "import zipfile\n",
        "from IPython.display import display, HTML\n",
        "import io\n",
        "from PIL import Image\n",
        "import cv2\n",
        "import os"
      ]
    },
    {
      "cell_type": "code",
      "execution_count": null,
      "metadata": {
        "id": "prTxfCqij-2L"
      },
      "outputs": [],
      "source": [
        "dataset_path = \"drive/MyDrive/datasets/rockpaperscissors.zip\"\n",
        "\n",
        "with zipfile.ZipFile(dataset_path, 'r') as zip_ref:\n",
        "    zip_ref.extractall(\"dataset\")\n",
        "\n",
        "data_dir = \"dataset/rockpaperscissors/rps-cv-images\"\n",
        "class_dir = os.listdir(data_dir)\n",
        "\n",
        "class_dir = [img for img in class_dir if os.path.isdir(os.path.join(data_dir, img))]\n",
        "\n"
      ]
    },
    {
      "cell_type": "code",
      "source": [
        "image_cv = []\n",
        "\n",
        "data_dir = \"dataset/rockpaperscissors/rps-cv-images\"\n",
        "\n",
        "lower_green = np.array([0, 0, 0])\n",
        "upper_green = np.array([100, 255, 130])\n",
        "\n",
        "for i in class_dir[:3]:\n",
        "  image_dir = os.path.join(data_dir, i)\n",
        "  images = os.listdir(image_dir)\n",
        "  for image_name in images:\n",
        "    image_path = os.path.join(image_dir, image_name)\n",
        "    img = cv2.imread(image_path)\n",
        "    img = cv2.cvtColor(img, cv2.COLOR_BGR2RGB)\n",
        "    mask = cv2.inRange(img, lower_green, upper_green)\n",
        "    img[mask > 0] = [255, 255, 255]\n",
        "    output_path = os.path.join(data_dir, i, image_name)\n",
        "    cv2.imwrite(output_path, cv2.cvtColor(img, cv2.COLOR_RGB2BGR))\n"
      ],
      "metadata": {
        "id": "6upU9nyvdXPD"
      },
      "execution_count": null,
      "outputs": []
    },
    {
      "cell_type": "code",
      "execution_count": null,
      "metadata": {
        "id": "VkDAM95BhpS3",
        "colab": {
          "base_uri": "https://localhost:8080/"
        },
        "outputId": "6cf4f9c5-65a1-47ef-a3b0-a2a88bc4f20b"
      },
      "outputs": [
        {
          "output_type": "stream",
          "name": "stdout",
          "text": [
            "Found 1314 images belonging to 3 classes.\n",
            "Found 874 images belonging to 3 classes.\n"
          ]
        }
      ],
      "source": [
        "\n",
        "batch_size = 32\n",
        "image_size = (100, 150)\n",
        "validation_split = 0.4\n",
        "\n",
        "datagen = ImageDataGenerator(\n",
        "    rescale=1./255,\n",
        "    rotation_range=20,\n",
        "    width_shift_range=0.2,\n",
        "    height_shift_range=0.2,\n",
        "    shear_range=0.2,\n",
        "    zoom_range=0.2,\n",
        "    horizontal_flip=True,\n",
        "    fill_mode='nearest',\n",
        "    validation_split=validation_split\n",
        ")\n",
        "\n",
        "\n",
        "\n",
        "\n",
        "train_generator = datagen.flow_from_directory(\n",
        "    data_dir,\n",
        "    target_size=image_size,\n",
        "    batch_size=batch_size,\n",
        "    class_mode='categorical',\n",
        "    subset='training'\n",
        ")\n",
        "\n",
        "\n",
        "validation_generator = datagen.flow_from_directory(\n",
        "    data_dir,\n",
        "    target_size=image_size,\n",
        "    batch_size=batch_size,\n",
        "    class_mode='categorical',\n",
        "    subset='validation'\n",
        ")\n"
      ]
    },
    {
      "cell_type": "code",
      "source": [
        "model = tf.keras.models.Sequential([\n",
        "    Conv2D(32, (3, 3), activation = 'relu', input_shape = (100, 150, 3)),\n",
        "    MaxPooling2D(2, 2),\n",
        "    Conv2D(64, (3, 3), activation = 'relu'),\n",
        "    MaxPooling2D(2, 2),\n",
        "    Conv2D(128, (3, 3), activation = 'relu'),\n",
        "    MaxPooling2D(2, 2),\n",
        "    Conv2D(256, (3, 3), activation = 'relu'),\n",
        "    MaxPooling2D(2, 2),\n",
        "    Flatten(),\n",
        "    Dense(512, activation = 'relu'),\n",
        "    Dense(3, activation = 'softmax')\n",
        "])\n",
        "\n",
        "\n",
        "model.compile(loss='categorical_crossentropy',\n",
        "              optimizer='adam',\n",
        "              metrics=['accuracy'])\n"
      ],
      "metadata": {
        "colab": {
          "base_uri": "https://localhost:8080/"
        },
        "id": "RH1dcM25tsP0",
        "outputId": "039f0bc9-e80d-41ce-b2fa-e4d2623cc69f"
      },
      "execution_count": null,
      "outputs": [
        {
          "output_type": "stream",
          "name": "stderr",
          "text": [
            "/usr/local/lib/python3.10/dist-packages/keras/src/layers/convolutional/base_conv.py:107: UserWarning: Do not pass an `input_shape`/`input_dim` argument to a layer. When using Sequential models, prefer using an `Input(shape)` object as the first layer in the model instead.\n",
            "  super().__init__(activity_regularizer=activity_regularizer, **kwargs)\n"
          ]
        }
      ]
    },
    {
      "cell_type": "code",
      "execution_count": null,
      "metadata": {
        "id": "HuMBFbo3kGuV",
        "colab": {
          "base_uri": "https://localhost:8080/"
        },
        "outputId": "53f44f42-fb26-4ecd-d16d-fb8e16e0f58d"
      },
      "outputs": [
        {
          "output_type": "stream",
          "name": "stdout",
          "text": [
            "Epoch 1/20\n"
          ]
        },
        {
          "output_type": "stream",
          "name": "stderr",
          "text": [
            "/usr/local/lib/python3.10/dist-packages/keras/src/trainers/data_adapters/py_dataset_adapter.py:121: UserWarning: Your `PyDataset` class should call `super().__init__(**kwargs)` in its constructor. `**kwargs` can include `workers`, `use_multiprocessing`, `max_queue_size`. Do not pass these arguments to `fit()`, as they will be ignored.\n",
            "  self._warn_if_super_not_called()\n"
          ]
        },
        {
          "output_type": "stream",
          "name": "stdout",
          "text": [
            "30/30 - 21s - 704ms/step - accuracy: 0.3699 - loss: 1.1154 - val_accuracy: 0.3500 - val_loss: 1.0946\n",
            "Epoch 2/20\n"
          ]
        },
        {
          "output_type": "stream",
          "name": "stderr",
          "text": [
            "/usr/lib/python3.10/contextlib.py:153: UserWarning: Your input ran out of data; interrupting training. Make sure that your dataset or generator can generate at least `steps_per_epoch * epochs` batches. You may need to use the `.repeat()` function when building your dataset.\n",
            "  self.gen.throw(typ, value, traceback)\n"
          ]
        },
        {
          "output_type": "stream",
          "name": "stdout",
          "text": [
            "30/30 - 1s - 29ms/step - accuracy: 0.3307 - loss: 1.0991 - val_accuracy: 0.3500 - val_loss: 1.0965\n",
            "Epoch 3/20\n",
            "30/30 - 6s - 199ms/step - accuracy: 0.3602 - loss: 1.0977 - val_accuracy: 0.4375 - val_loss: 1.0921\n",
            "Epoch 4/20\n",
            "30/30 - 1s - 36ms/step - accuracy: 0.4479 - loss: 1.0717 - val_accuracy: 0.3375 - val_loss: 1.1412\n",
            "Epoch 5/20\n",
            "30/30 - 7s - 243ms/step - accuracy: 0.4387 - loss: 1.0445 - val_accuracy: 0.4938 - val_loss: 0.9604\n",
            "Epoch 6/20\n",
            "30/30 - 2s - 52ms/step - accuracy: 0.5599 - loss: 0.9443 - val_accuracy: 0.6622 - val_loss: 0.8556\n",
            "Epoch 7/20\n",
            "30/30 - 7s - 219ms/step - accuracy: 0.6903 - loss: 0.7300 - val_accuracy: 0.7000 - val_loss: 0.7058\n",
            "Epoch 8/20\n",
            "30/30 - 2s - 67ms/step - accuracy: 0.7578 - loss: 0.5864 - val_accuracy: 0.8188 - val_loss: 0.4933\n",
            "Epoch 9/20\n",
            "30/30 - 8s - 268ms/step - accuracy: 0.8198 - loss: 0.4532 - val_accuracy: 0.8500 - val_loss: 0.3716\n",
            "Epoch 10/20\n",
            "30/30 - 1s - 35ms/step - accuracy: 0.8136 - loss: 0.4750 - val_accuracy: 0.6750 - val_loss: 0.9437\n",
            "Epoch 11/20\n",
            "30/30 - 7s - 241ms/step - accuracy: 0.7763 - loss: 0.5195 - val_accuracy: 0.8562 - val_loss: 0.3613\n",
            "Epoch 12/20\n",
            "30/30 - 1s - 30ms/step - accuracy: 0.8099 - loss: 0.4411 - val_accuracy: 0.7568 - val_loss: 0.4755\n",
            "Epoch 13/20\n",
            "30/30 - 6s - 200ms/step - accuracy: 0.8376 - loss: 0.4192 - val_accuracy: 0.8313 - val_loss: 0.3810\n",
            "Epoch 14/20\n",
            "30/30 - 1s - 49ms/step - accuracy: 0.9010 - loss: 0.3231 - val_accuracy: 0.8625 - val_loss: 0.4089\n",
            "Epoch 15/20\n",
            "30/30 - 8s - 272ms/step - accuracy: 0.8833 - loss: 0.3200 - val_accuracy: 0.9125 - val_loss: 0.2222\n",
            "Epoch 16/20\n",
            "30/30 - 1s - 38ms/step - accuracy: 0.8927 - loss: 0.2655 - val_accuracy: 0.8938 - val_loss: 0.3059\n",
            "Epoch 17/20\n",
            "30/30 - 10s - 322ms/step - accuracy: 0.9194 - loss: 0.2526 - val_accuracy: 0.9125 - val_loss: 0.3510\n",
            "Epoch 18/20\n",
            "30/30 - 20s - 653ms/step - accuracy: 0.9010 - loss: 0.2737 - val_accuracy: 0.8919 - val_loss: 0.2623\n",
            "Epoch 19/20\n",
            "30/30 - 7s - 230ms/step - accuracy: 0.9281 - loss: 0.2276 - val_accuracy: 0.9312 - val_loss: 0.2069\n",
            "Epoch 20/20\n",
            "30/30 - 1s - 41ms/step - accuracy: 0.9181 - loss: 0.1997 - val_accuracy: 0.9125 - val_loss: 0.2824\n"
          ]
        },
        {
          "output_type": "execute_result",
          "data": {
            "text/plain": [
              "<keras.src.callbacks.history.History at 0x7d79c194cc40>"
            ]
          },
          "metadata": {},
          "execution_count": 7
        }
      ],
      "source": [
        "model.fit(\n",
        "      train_generator,\n",
        "      steps_per_epoch=30,\n",
        "      epochs=20,\n",
        "      validation_data=validation_generator,\n",
        "      validation_steps=5,\n",
        "      verbose=2)"
      ]
    },
    {
      "cell_type": "code",
      "execution_count": null,
      "metadata": {
        "id": "RBrrEfVThy1G",
        "colab": {
          "base_uri": "https://localhost:8080/",
          "height": 487
        },
        "outputId": "6290c724-0c66-497e-8755-21fd90e6ca65"
      },
      "outputs": [
        {
          "output_type": "display_data",
          "data": {
            "text/plain": [
              "<IPython.core.display.HTML object>"
            ],
            "text/html": [
              "\n",
              "     <input type=\"file\" id=\"files-93e656d0-4c80-4117-adf9-21d88c7c22ac\" name=\"files[]\" multiple disabled\n",
              "        style=\"border:none\" />\n",
              "     <output id=\"result-93e656d0-4c80-4117-adf9-21d88c7c22ac\">\n",
              "      Upload widget is only available when the cell has been executed in the\n",
              "      current browser session. Please rerun this cell to enable.\n",
              "      </output>\n",
              "      <script>// Copyright 2017 Google LLC\n",
              "//\n",
              "// Licensed under the Apache License, Version 2.0 (the \"License\");\n",
              "// you may not use this file except in compliance with the License.\n",
              "// You may obtain a copy of the License at\n",
              "//\n",
              "//      http://www.apache.org/licenses/LICENSE-2.0\n",
              "//\n",
              "// Unless required by applicable law or agreed to in writing, software\n",
              "// distributed under the License is distributed on an \"AS IS\" BASIS,\n",
              "// WITHOUT WARRANTIES OR CONDITIONS OF ANY KIND, either express or implied.\n",
              "// See the License for the specific language governing permissions and\n",
              "// limitations under the License.\n",
              "\n",
              "/**\n",
              " * @fileoverview Helpers for google.colab Python module.\n",
              " */\n",
              "(function(scope) {\n",
              "function span(text, styleAttributes = {}) {\n",
              "  const element = document.createElement('span');\n",
              "  element.textContent = text;\n",
              "  for (const key of Object.keys(styleAttributes)) {\n",
              "    element.style[key] = styleAttributes[key];\n",
              "  }\n",
              "  return element;\n",
              "}\n",
              "\n",
              "// Max number of bytes which will be uploaded at a time.\n",
              "const MAX_PAYLOAD_SIZE = 100 * 1024;\n",
              "\n",
              "function _uploadFiles(inputId, outputId) {\n",
              "  const steps = uploadFilesStep(inputId, outputId);\n",
              "  const outputElement = document.getElementById(outputId);\n",
              "  // Cache steps on the outputElement to make it available for the next call\n",
              "  // to uploadFilesContinue from Python.\n",
              "  outputElement.steps = steps;\n",
              "\n",
              "  return _uploadFilesContinue(outputId);\n",
              "}\n",
              "\n",
              "// This is roughly an async generator (not supported in the browser yet),\n",
              "// where there are multiple asynchronous steps and the Python side is going\n",
              "// to poll for completion of each step.\n",
              "// This uses a Promise to block the python side on completion of each step,\n",
              "// then passes the result of the previous step as the input to the next step.\n",
              "function _uploadFilesContinue(outputId) {\n",
              "  const outputElement = document.getElementById(outputId);\n",
              "  const steps = outputElement.steps;\n",
              "\n",
              "  const next = steps.next(outputElement.lastPromiseValue);\n",
              "  return Promise.resolve(next.value.promise).then((value) => {\n",
              "    // Cache the last promise value to make it available to the next\n",
              "    // step of the generator.\n",
              "    outputElement.lastPromiseValue = value;\n",
              "    return next.value.response;\n",
              "  });\n",
              "}\n",
              "\n",
              "/**\n",
              " * Generator function which is called between each async step of the upload\n",
              " * process.\n",
              " * @param {string} inputId Element ID of the input file picker element.\n",
              " * @param {string} outputId Element ID of the output display.\n",
              " * @return {!Iterable<!Object>} Iterable of next steps.\n",
              " */\n",
              "function* uploadFilesStep(inputId, outputId) {\n",
              "  const inputElement = document.getElementById(inputId);\n",
              "  inputElement.disabled = false;\n",
              "\n",
              "  const outputElement = document.getElementById(outputId);\n",
              "  outputElement.innerHTML = '';\n",
              "\n",
              "  const pickedPromise = new Promise((resolve) => {\n",
              "    inputElement.addEventListener('change', (e) => {\n",
              "      resolve(e.target.files);\n",
              "    });\n",
              "  });\n",
              "\n",
              "  const cancel = document.createElement('button');\n",
              "  inputElement.parentElement.appendChild(cancel);\n",
              "  cancel.textContent = 'Cancel upload';\n",
              "  const cancelPromise = new Promise((resolve) => {\n",
              "    cancel.onclick = () => {\n",
              "      resolve(null);\n",
              "    };\n",
              "  });\n",
              "\n",
              "  // Wait for the user to pick the files.\n",
              "  const files = yield {\n",
              "    promise: Promise.race([pickedPromise, cancelPromise]),\n",
              "    response: {\n",
              "      action: 'starting',\n",
              "    }\n",
              "  };\n",
              "\n",
              "  cancel.remove();\n",
              "\n",
              "  // Disable the input element since further picks are not allowed.\n",
              "  inputElement.disabled = true;\n",
              "\n",
              "  if (!files) {\n",
              "    return {\n",
              "      response: {\n",
              "        action: 'complete',\n",
              "      }\n",
              "    };\n",
              "  }\n",
              "\n",
              "  for (const file of files) {\n",
              "    const li = document.createElement('li');\n",
              "    li.append(span(file.name, {fontWeight: 'bold'}));\n",
              "    li.append(span(\n",
              "        `(${file.type || 'n/a'}) - ${file.size} bytes, ` +\n",
              "        `last modified: ${\n",
              "            file.lastModifiedDate ? file.lastModifiedDate.toLocaleDateString() :\n",
              "                                    'n/a'} - `));\n",
              "    const percent = span('0% done');\n",
              "    li.appendChild(percent);\n",
              "\n",
              "    outputElement.appendChild(li);\n",
              "\n",
              "    const fileDataPromise = new Promise((resolve) => {\n",
              "      const reader = new FileReader();\n",
              "      reader.onload = (e) => {\n",
              "        resolve(e.target.result);\n",
              "      };\n",
              "      reader.readAsArrayBuffer(file);\n",
              "    });\n",
              "    // Wait for the data to be ready.\n",
              "    let fileData = yield {\n",
              "      promise: fileDataPromise,\n",
              "      response: {\n",
              "        action: 'continue',\n",
              "      }\n",
              "    };\n",
              "\n",
              "    // Use a chunked sending to avoid message size limits. See b/62115660.\n",
              "    let position = 0;\n",
              "    do {\n",
              "      const length = Math.min(fileData.byteLength - position, MAX_PAYLOAD_SIZE);\n",
              "      const chunk = new Uint8Array(fileData, position, length);\n",
              "      position += length;\n",
              "\n",
              "      const base64 = btoa(String.fromCharCode.apply(null, chunk));\n",
              "      yield {\n",
              "        response: {\n",
              "          action: 'append',\n",
              "          file: file.name,\n",
              "          data: base64,\n",
              "        },\n",
              "      };\n",
              "\n",
              "      let percentDone = fileData.byteLength === 0 ?\n",
              "          100 :\n",
              "          Math.round((position / fileData.byteLength) * 100);\n",
              "      percent.textContent = `${percentDone}% done`;\n",
              "\n",
              "    } while (position < fileData.byteLength);\n",
              "  }\n",
              "\n",
              "  // All done.\n",
              "  yield {\n",
              "    response: {\n",
              "      action: 'complete',\n",
              "    }\n",
              "  };\n",
              "}\n",
              "\n",
              "scope.google = scope.google || {};\n",
              "scope.google.colab = scope.google.colab || {};\n",
              "scope.google.colab._files = {\n",
              "  _uploadFiles,\n",
              "  _uploadFilesContinue,\n",
              "};\n",
              "})(self);\n",
              "</script> "
            ]
          },
          "metadata": {}
        },
        {
          "output_type": "stream",
          "name": "stdout",
          "text": [
            "Saving blak.webp to blak (1).webp\n",
            "\u001b[1m1/1\u001b[0m \u001b[32m━━━━━━━━━━━━━━━━━━━━\u001b[0m\u001b[37m\u001b[0m \u001b[1m0s\u001b[0m 16ms/step\n",
            "File 'blak (1).webp' memiliki classes: paper - [1]\n"
          ]
        },
        {
          "output_type": "display_data",
          "data": {
            "text/plain": [
              "<Figure size 640x480 with 1 Axes>"
            ],
            "image/png": "[encoded data removed]"
          },
          "metadata": {}
        }
      ],
      "source": [
        "\n",
        "uploaded = files.upload()\n",
        "for fn in uploaded.keys():\n",
        "  path = fn\n",
        "  img = keras_image.load_img(path, target_size=image_size)\n",
        "  imgplot = plt.imshow(img)\n",
        "  x = keras_image.img_to_array(img)\n",
        "  x = np.expand_dims(x, axis=0)\n",
        "\n",
        "  images = np.vstack([x])\n",
        "  classes = model.predict(images, batch_size=30)\n",
        "  predicted_class_index = np.argmax(classes, axis=1)\n",
        "  class_labels = {0: 'scissor', 1: 'paper', 2: 'rock'}\n",
        "  predicted_label = class_labels[predicted_class_index[0]]\n",
        "\n",
        "\n",
        "  print(f\"File '{fn}' memiliki classes: {predicted_label} - {predicted_class_index}\")"
      ]
    }
  ],
  "metadata": {
    "colab": {
      "provenance": [],
      "gpuType": "T4"
    },
    "kernelspec": {
      "display_name": "Python 3",
      "name": "python3"
    },
    "language_info": {
      "name": "python"
    },
    "accelerator": "GPU"
  },
  "nbformat": 4,
  "nbformat_minor": 0
}